{
 "cells": [
  {
   "cell_type": "markdown",
   "id": "e22cea9d-116a-499f-93f0-9c90c857a59e",
   "metadata": {
    "tags": []
   },
   "source": [
    "# Genome Assembly workbook - Mayo-Illinois Course 2024\n",
    "\n",
    "## Test the environment\n",
    "\n",
    "We need the following modules preloaded before we start this notebook! \n",
    "\n",
    "* `seqkit/2.6.1`\n",
    "* `hifiasm/0.19.6-IGB-gcc-8.2.0`\n",
    "* `Bandage/0.8.1`\n",
    "* `gfatools/0.5-IGB-gcc-8.2.0`\n",
    "\n",
    "This has been simplified thankfully.  These can be all loaded in using the single `Mayo/2024-IGB-gcc-8.2.0` module in the 'Softwares' tab (the hexagon-y looking tab on the left side).\n",
    "\n",
    "We can then test this with the following cell, which should print a help menu.  We can then collapse it.\n",
    "\n",
    "If it doesn't work and there is a bash kernel showing in the top right corner, you will need to shut the kernel down, load the modules using the 'Softwares' tab on the left tab, and then restart the kernel and rerun the command below"
   ]
  },
  {
   "cell_type": "code",
   "execution_count": null,
   "id": "675a7610-fa8f-4a97-b587-82d3e2b873d1",
   "metadata": {
    "tags": []
   },
   "outputs": [],
   "source": [
    "seqkit -h"
   ]
  },
  {
   "cell_type": "markdown",
   "id": "bb9fe91c-48ff-4f34-9be8-ef0fa059b0e7",
   "metadata": {},
   "source": [
    "## Copy over the data\n",
    "\n",
    "All good above?  Now we can copy over the data into the folder we are working in."
   ]
  },
  {
   "cell_type": "code",
   "execution_count": null,
   "id": "8fd7216f-4dfc-4a1f-b3af-03d2a4ed264e",
   "metadata": {
    "tags": []
   },
   "outputs": [],
   "source": [
    "cp -r /home/classroom/mayo/2024/Genome-Assembly/data/* . "
   ]
  },
  {
   "cell_type": "markdown",
   "id": "8099c11c-b1b6-4ba7-8290-f48b3d6ef353",
   "metadata": {},
   "source": [
    "## Run seqkit stats on the raw sequence data\n",
    "\n",
    "Let's check how much data we have in the four different data sets."
   ]
  },
  {
   "cell_type": "code",
   "execution_count": null,
   "id": "89ab5237-9a56-4751-977e-b033f780db09",
   "metadata": {},
   "outputs": [],
   "source": [
    "seqkit stats --quiet dataset*.fastq.gz "
   ]
  },
  {
   "cell_type": "markdown",
   "id": "3eb6db48-253f-4c64-9133-a844a04691ef",
   "metadata": {},
   "source": [
    "The overall stats above should indicate how much genome coverage there is per sample.  The genome size for this bacterium is known, about 1.7Mb.  For standard assemblies we try to aim for minimally 20-30x minimum, though we can assemble lower coverage with some caveats (as you'll see).  Even 30x might be a little low\n",
    "\n",
    "We want to keep a record of the data, so let's rerun the above but use the `-T` option (fo creating tab-delimited output) and redirect the output to a file.  Notice that `.tsv` (tab-delimited) files in the left-side file browser can be opened by double-clicking into a table format, which can be pretty handy."
   ]
  },
  {
   "cell_type": "code",
   "execution_count": null,
   "id": "ceb2565d-18f2-43ab-a90f-a20c4cd006d5",
   "metadata": {},
   "outputs": [],
   "source": [
    "seqkit stats -T --quiet dataset*.fastq.gz > seqkit-reads.tsv"
   ]
  },
  {
   "cell_type": "markdown",
   "id": "8fccfba3-f953-4fe4-b4ac-93cfd3607851",
   "metadata": {},
   "source": [
    "## **Question:** \n",
    "\n",
    "What is the estimated genome coverage for each data set above?  How would you calculate this?"
   ]
  },
  {
   "cell_type": "markdown",
   "id": "f56e22fa-21cc-424c-b18e-68baeb188862",
   "metadata": {},
   "source": [
    "## Run assembly 1\n",
    "\n",
    "Now we are going to run our assemblies.  The first will take about 7-8 minutes, maybe more if everyone is running these all at once."
   ]
  },
  {
   "cell_type": "code",
   "execution_count": null,
   "id": "6ac576c2-c2cd-42c1-bf20-f49182818b52",
   "metadata": {},
   "outputs": [],
   "source": [
    "mkdir -p dataset1\n",
    "time hifiasm -o dataset1/full.asm --n-hap 1 -l0 -t $SLURM_NTASKS dataset1.fastq.gz 2> dataset1/full.log"
   ]
  },
  {
   "cell_type": "markdown",
   "id": "bf467e3a-c45b-4abe-911a-deb324b303a9",
   "metadata": {},
   "source": [
    "## Run assembly 2\n",
    "\n",
    "Assembly 2 has half the coverage of the first."
   ]
  },
  {
   "cell_type": "code",
   "execution_count": null,
   "id": "5777dca7-d5a0-41c2-b228-7b30122ba3a8",
   "metadata": {},
   "outputs": [],
   "source": [
    "mkdir -p dataset2\n",
    "time hifiasm -o dataset2/half.asm --n-hap 1 -l0 -t $SLURM_NTASKS dataset2.fastq.gz 2> dataset2/half.log"
   ]
  },
  {
   "cell_type": "markdown",
   "id": "80d2fd3b-be5c-40e7-a928-1a704bc35166",
   "metadata": {
    "tags": []
   },
   "source": [
    "## Run assembly 3\n",
    "\n",
    "Assembly 3 has 1/4 the coverage of the first."
   ]
  },
  {
   "cell_type": "code",
   "execution_count": null,
   "id": "8522bae2-fdf1-4622-b11b-67f6ff4ac130",
   "metadata": {},
   "outputs": [],
   "source": [
    "mkdir -p dataset3\n",
    "time hifiasm -o dataset3/quarter.asm --n-hap 1 -l0 -t $SLURM_NTASKS dataset3.fastq.gz 2> dataset3/quarter.log"
   ]
  },
  {
   "cell_type": "markdown",
   "id": "6e9f8490-34fb-4998-aff6-33f6e65e30e9",
   "metadata": {},
   "source": [
    "## Run assembly 4\n",
    "\n",
    "Assembly 4 has 1/10 the coverage of the first, so the overall coverage is pretty sparse."
   ]
  },
  {
   "cell_type": "code",
   "execution_count": null,
   "id": "b0049c13-b087-4925-a49a-40a0be98b206",
   "metadata": {},
   "outputs": [],
   "source": [
    "mkdir -p dataset4\n",
    "time hifiasm -o dataset4/sparse.asm --n-hap 1 -l0 -t $SLURM_NTASKS dataset4.fastq.gz 2> dataset4/sparse.log"
   ]
  },
  {
   "cell_type": "markdown",
   "id": "7f025c74-98e6-4022-8b4e-c1179e662931",
   "metadata": {},
   "source": [
    "## **Question** \n",
    "\n",
    "Can you see any obvious pattern from the times the assemblies took?"
   ]
  },
  {
   "cell_type": "markdown",
   "id": "bf74a1a4-8ff5-4b79-b3a3-80a0302c87bf",
   "metadata": {},
   "source": [
    "## Convert sequence formats\n",
    "\n",
    "We commonly need to convert from one bioinformatics format to another.  In this case, hifiasm produces GFA files, which are useful but isn't a format that most downstream tools use, which is a simpler format called FASTA.  Here, we do a simple conversion of the primary contig files from GFA to FASTA using a tool called `gfatools` (appropriately enought). Some of these tools are multiuse and have subcommands; in this case the subcommand to convert from GFA to FASTA is `gfa3fa`."
   ]
  },
  {
   "cell_type": "code",
   "execution_count": null,
   "id": "47de682c-f5d9-4970-88f4-b5e326c0babd",
   "metadata": {},
   "outputs": [],
   "source": [
    "gfatools gfa2fa dataset1/full.asm.bp.p_ctg.gfa > dataset1/full.asm.bp.p_ctg.fasta 2> /dev/null\n",
    "gfatools gfa2fa dataset2/half.asm.bp.p_ctg.gfa > dataset2/half.asm.bp.p_ctg.fasta 2> /dev/null\n",
    "gfatools gfa2fa dataset3/quarter.asm.bp.p_ctg.gfa > dataset3/quarter.asm.bp.p_ctg.fasta 2> /dev/null\n",
    "gfatools gfa2fa dataset4/sparse.asm.bp.p_ctg.gfa > dataset3/sparse.asm.bp.p_ctg.fasta 2> /dev/null"
   ]
  },
  {
   "cell_type": "code",
   "execution_count": null,
   "id": "2c0a4aec-9774-4dc1-abfa-96827b43de16",
   "metadata": {},
   "outputs": [],
   "source": [
    "ls -l dataset*/*.fasta"
   ]
  },
  {
   "cell_type": "markdown",
   "id": "c6e919ad-958e-4901-abcb-ece03821d3c1",
   "metadata": {},
   "source": [
    "## Generate assembly stats\n",
    "\n",
    "Now we want to see some stats for the sequences.  Here we can use `seqkit` again, but we also want the N50 value.  We can get this using `seqkit stats` by requesting full stats.  Let's first save it to a file (the extended stats make the raw output hard to read)."
   ]
  },
  {
   "cell_type": "code",
   "execution_count": null,
   "id": "3aa387e6-da74-45f3-ae65-c00adeba8311",
   "metadata": {},
   "outputs": [],
   "source": [
    "seqkit stats -T --quiet -a dataset*/*.fasta > seqkit-assembly.stats.tsv"
   ]
  },
  {
   "cell_type": "markdown",
   "id": "7360f3ea-ee16-48dc-b62b-5d6cdbeba9bc",
   "metadata": {},
   "source": [
    "Now we can open this file separately.  In the file browser, double-click to open the file."
   ]
  },
  {
   "cell_type": "markdown",
   "id": "0379af82-d0fc-40b2-a2c8-6dd7ee432969",
   "metadata": {},
   "source": [
    "## Visualize data using Bandage\n",
    "\n",
    "We can visualize the assemblies using the tool Bandage.  We have an optional section in the lab for using Bandage using the GUI, but you can also use Bandage for generating simple graphs of the assemblies.  Let's look at the first one (dataset1).  \n",
    "\n",
    "The following command will generate a PNG file"
   ]
  },
  {
   "cell_type": "code",
   "execution_count": null,
   "id": "1c0cfd89-1ed1-42c6-95fe-41f95deeb51d",
   "metadata": {},
   "outputs": [],
   "source": [
    "Bandage image dataset1/full.asm.bp.p_ctg.noseq.gfa dataset1/full.png"
   ]
  },
  {
   "cell_type": "markdown",
   "id": "2b818b11-7ef7-47d7-85eb-f7e89304eb31",
   "metadata": {},
   "source": [
    "This command can then have the image (PNG or JPEG) displayed in the notebook:"
   ]
  },
  {
   "cell_type": "code",
   "execution_count": null,
   "id": "dad0e1fb-3083-4633-ac20-fe8d50ed3840",
   "metadata": {},
   "outputs": [],
   "source": [
    "cat dataset1/full.png | display"
   ]
  },
  {
   "cell_type": "markdown",
   "id": "f25d549c-5ff5-438d-b7fc-37f39578b852",
   "metadata": {},
   "source": [
    "This should be a closed circular genome (hopefully this is what you get.\n",
    "\n",
    "We can now look at the other assemblies.  For dataset2 ('half'):"
   ]
  },
  {
   "cell_type": "code",
   "execution_count": null,
   "id": "e37347b6-d78c-4910-b347-4bcdba0cb62d",
   "metadata": {},
   "outputs": [],
   "source": [
    "Bandage image dataset2/half.asm.bp.p_ctg.noseq.gfa dataset2/half.png\n",
    "cat dataset2/half.png | display"
   ]
  },
  {
   "cell_type": "markdown",
   "id": "36091bcf-6700-4ed9-aa0d-c15e717b5705",
   "metadata": {},
   "source": [
    "Not quite closed, but one contig. Not too bad!\n",
    "\n",
    "And now for dataset3 ('sparse').  "
   ]
  },
  {
   "cell_type": "code",
   "execution_count": null,
   "id": "ca6ce992-8cd7-470b-a8ec-deb67de1a06e",
   "metadata": {},
   "outputs": [],
   "source": [
    "Bandage image dataset3/quarter.asm.bp.p_ctg.noseq.gfa dataset3/quarter.png\n",
    "cat dataset3/quarter.png | display"
   ]
  },
  {
   "cell_type": "markdown",
   "id": "a995e57d-8b1f-4c78-8c8f-ca0fba36eadf",
   "metadata": {},
   "source": [
    "A bit more fragmented; we're starting to see effects of lower genome coverage.  And now for the worst one, assembly 4:"
   ]
  },
  {
   "cell_type": "code",
   "execution_count": null,
   "id": "535a8d37-78f9-4c1d-a63a-b4c976a56a9e",
   "metadata": {},
   "outputs": [],
   "source": [
    "Bandage image dataset4/sparse.asm.bp.p_ctg.noseq.gfa dataset4/sparse.png\n",
    "cat dataset4/sparse.png | display"
   ]
  },
  {
   "cell_type": "markdown",
   "id": "a49c69fc-aee3-4ded-9797-b87540978170",
   "metadata": {},
   "source": [
    "Significantly more fragmented!\n",
    "\n",
    "We can also look at the other GFA files.  We have been looking at primary _contig_ graphs.  A _unitig_ graph includes all connections in the assembly within reason (e.g., a certain level of read coverage and base quality of he reads). In other words these can include regions that show some degree of variation, though it may be low coverage and possibly erroneous.  These are generally cleaned up in the primary assembly if the number of haplotypes expected is less than 2 (like this case). "
   ]
  },
  {
   "cell_type": "code",
   "execution_count": null,
   "id": "8f023aef-558b-4660-9821-86957a796d0c",
   "metadata": {},
   "outputs": [],
   "source": [
    "Bandage image dataset1/full.asm.bp.p_utg.noseq.gfa dataset1/full.unitig.png\n",
    "cat dataset1/full.unitig.png | display"
   ]
  },
  {
   "cell_type": "markdown",
   "id": "4fb9af73-13b6-49c0-8437-cc0ebdd34bd1",
   "metadata": {},
   "source": [
    "Here we can see there are some more complex regions even for a bacterial assembly.  Since these are removed in the primary contig assembly, the other paths were likely pruned (removed) based on poor read evidence."
   ]
  }
 ],
 "metadata": {
  "kernelspec": {
   "display_name": "Bash",
   "language": "bash",
   "name": "bash"
  },
  "language_info": {
   "codemirror_mode": "shell",
   "file_extension": ".sh",
   "mimetype": "text/x-sh",
   "name": "bash"
  }
 },
 "nbformat": 4,
 "nbformat_minor": 5
}
